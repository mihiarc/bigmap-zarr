{
 "cells": [
  {
   "cell_type": "markdown",
   "metadata": {},
   "source": [
    "Heirs property is a form of land ownership that is common in the southern United States, particularly among African American families. It occurs when land is passed down through generations without a will or proper legal documentation, resulting in multiple family members sharing ownership. This form of ownership can create several complications:\n",
    "\n",
    "1. **Fractional Ownership**: As property passes to more descendants, the ownership becomes increasingly divided, often leaving many individuals with small, fractional shares.\n",
    "\n",
    "2. **Legal Challenges**: Without clear title or documentation, it is difficult for the family members to sell, develop, or use the property as collateral for loans. It also complicates efforts to pay taxes and make decisions regarding the land.\n",
    "\n",
    "3. **Risk of Forced Sale**: Any co-owner can sell their share to an outsider without the consent of other family members. The new owner can then file a partition action in court, which may result in a forced sale of the entire property, often at below-market prices.\n",
    "\n",
    "4. **Loss of Land**: This type of ownership has contributed to significant land loss among African American families in the South. Due to the legal complexities and lack of resources, many families are unable to prevent forced sales or pay property taxes, resulting in the loss of ancestral land.\n",
    "\n",
    "Heirs property is often a legacy of systemic issues like discriminatory lending practices and lack of access to legal resources, making it a challenging and important issue for many families in the region."
   ]
  },
  {
   "cell_type": "code",
   "execution_count": 1,
   "metadata": {},
   "outputs": [],
   "source": [
    "# conda create -n geo python=3.9\n",
    "# conda install -c conda-forge geos=3.10 shapely=2.0 fiona geopandas dask-geopandas pyarrow pyogrio dask\n",
    "\n",
    "import geopandas as gpd\n",
    "import dask_geopandas as dgpd\n",
    "import dask.dataframe as dd"
   ]
  },
  {
   "cell_type": "code",
   "execution_count": 2,
   "metadata": {},
   "outputs": [
    {
     "name": "stdout",
     "output_type": "stream",
     "text": [
      "3.12.1-CAPI-1.18.1\n"
     ]
    }
   ],
   "source": [
    "import shapely\n",
    "print(shapely.geos.geos_version_string)"
   ]
  },
  {
   "cell_type": "code",
   "execution_count": 3,
   "metadata": {},
   "outputs": [
    {
     "name": "stdout",
     "output_type": "stream",
     "text": [
      "Dask version: 2023.1.1\n",
      "Dask-Geopandas version: 0.4.2\n",
      "GeoPandas version: 0.13.0\n",
      "Pandas version: 1.5.3\n",
      "Shapely version: 2.0.4\n"
     ]
    }
   ],
   "source": [
    "import dask\n",
    "import dask_geopandas\n",
    "import geopandas\n",
    "import pandas\n",
    "import shapely\n",
    "\n",
    "print(\"Dask version:\", dask.__version__)\n",
    "print(\"Dask-Geopandas version:\", dask_geopandas.__version__)\n",
    "print(\"GeoPandas version:\", geopandas.__version__)\n",
    "print(\"Pandas version:\", pandas.__version__)\n",
    "print(\"Shapely version:\", shapely.__version__)"
   ]
  },
  {
   "cell_type": "code",
   "execution_count": 12,
   "metadata": {},
   "outputs": [],
   "source": [
    "gdb_path = \"/Users/mihiarc/Work/data/HeirsParcels/HP_Deliverables.gdb/HP_Deliverables.gdb\"\n",
    "\n",
    "import fiona\n",
    "fiona.listlayers(gdb_path)\n",
    "\n",
    "# Read the data using geopandas\n",
    "gdf = gpd.read_file(gdb_path, layer=\"HP_Properties_NC\")"
   ]
  },
  {
   "cell_type": "code",
   "execution_count": 14,
   "metadata": {},
   "outputs": [
    {
     "data": {
      "text/plain": [
       "Index(['PARCELAPN', 'FIPS', 'PRCLDMPID', 'OBJECTID', 'Join_Count',\n",
       "       'TARGET_FID', 'JOIN_FID', 'PARCELAPN_1', 'FIPS_1', 'TAXAPN',\n",
       "       ...\n",
       "       'FIPS_12_13', 'PRCLDMPID_12_13', 'SHAPE_Length_1', 'SHAPE_Area_1',\n",
       "       'Existing_ID', 'Table_Joined', 'Match_Spatial', 'Shape_Length',\n",
       "       'Shape_Area', 'geometry'],\n",
       "      dtype='object', length=145)"
      ]
     },
     "execution_count": 14,
     "metadata": {},
     "output_type": "execute_result"
    }
   ],
   "source": [
    "gdf.columns"
   ]
  },
  {
   "cell_type": "code",
   "execution_count": 11,
   "metadata": {},
   "outputs": [
    {
     "ename": "ValueError",
     "evalue": "Null layer: 'HP_Properties_NC'",
     "output_type": "error",
     "traceback": [
      "\u001b[0;31m---------------------------------------------------------------------------\u001b[0m",
      "\u001b[0;31mValueError\u001b[0m                                Traceback (most recent call last)",
      "Cell \u001b[0;32mIn[11], line 7\u001b[0m\n\u001b[1;32m      4\u001b[0m fiona\u001b[38;5;241m.\u001b[39mlistlayers(gdb_path)\n\u001b[1;32m      6\u001b[0m \u001b[38;5;66;03m# # Read the data using geopandas\u001b[39;00m\n\u001b[0;32m----> 7\u001b[0m gdf \u001b[38;5;241m=\u001b[39m \u001b[43mgpd\u001b[49m\u001b[38;5;241;43m.\u001b[39;49m\u001b[43mread_file\u001b[49m\u001b[43m(\u001b[49m\u001b[43mgdb_path\u001b[49m\u001b[43m,\u001b[49m\u001b[43m \u001b[49m\u001b[43mlayer\u001b[49m\u001b[38;5;241;43m=\u001b[39;49m\u001b[38;5;124;43m\"\u001b[39;49m\u001b[38;5;124;43mHP_Properties_NC\u001b[39;49m\u001b[38;5;124;43m\"\u001b[39;49m\u001b[43m)\u001b[49m\n",
      "File \u001b[0;32m/opt/anaconda3/envs/geo/lib/python3.9/site-packages/geopandas/io/file.py:248\u001b[0m, in \u001b[0;36m_read_file\u001b[0;34m(filename, bbox, mask, rows, engine, **kwargs)\u001b[0m\n\u001b[1;32m    245\u001b[0m     \u001b[38;5;28;01melse\u001b[39;00m:\n\u001b[1;32m    246\u001b[0m         path_or_bytes \u001b[38;5;241m=\u001b[39m filename\n\u001b[0;32m--> 248\u001b[0m     \u001b[38;5;28;01mreturn\u001b[39;00m \u001b[43m_read_file_fiona\u001b[49m\u001b[43m(\u001b[49m\n\u001b[1;32m    249\u001b[0m \u001b[43m        \u001b[49m\u001b[43mpath_or_bytes\u001b[49m\u001b[43m,\u001b[49m\u001b[43m \u001b[49m\u001b[43mfrom_bytes\u001b[49m\u001b[43m,\u001b[49m\u001b[43m \u001b[49m\u001b[43mbbox\u001b[49m\u001b[38;5;241;43m=\u001b[39;49m\u001b[43mbbox\u001b[49m\u001b[43m,\u001b[49m\u001b[43m \u001b[49m\u001b[43mmask\u001b[49m\u001b[38;5;241;43m=\u001b[39;49m\u001b[43mmask\u001b[49m\u001b[43m,\u001b[49m\u001b[43m \u001b[49m\u001b[43mrows\u001b[49m\u001b[38;5;241;43m=\u001b[39;49m\u001b[43mrows\u001b[49m\u001b[43m,\u001b[49m\u001b[43m \u001b[49m\u001b[38;5;241;43m*\u001b[39;49m\u001b[38;5;241;43m*\u001b[39;49m\u001b[43mkwargs\u001b[49m\n\u001b[1;32m    250\u001b[0m \u001b[43m    \u001b[49m\u001b[43m)\u001b[49m\n\u001b[1;32m    252\u001b[0m \u001b[38;5;28;01melse\u001b[39;00m:\n\u001b[1;32m    253\u001b[0m     \u001b[38;5;28;01mraise\u001b[39;00m \u001b[38;5;167;01mValueError\u001b[39;00m(\u001b[38;5;124mf\u001b[39m\u001b[38;5;124m\"\u001b[39m\u001b[38;5;124munknown engine \u001b[39m\u001b[38;5;124m'\u001b[39m\u001b[38;5;132;01m{\u001b[39;00mengine\u001b[38;5;132;01m}\u001b[39;00m\u001b[38;5;124m'\u001b[39m\u001b[38;5;124m\"\u001b[39m)\n",
      "File \u001b[0;32m/opt/anaconda3/envs/geo/lib/python3.9/site-packages/geopandas/io/file.py:289\u001b[0m, in \u001b[0;36m_read_file_fiona\u001b[0;34m(path_or_bytes, from_bytes, bbox, mask, rows, where, **kwargs)\u001b[0m\n\u001b[1;32m    286\u001b[0m     reader \u001b[38;5;241m=\u001b[39m fiona\u001b[38;5;241m.\u001b[39mopen\n\u001b[1;32m    288\u001b[0m \u001b[38;5;28;01mwith\u001b[39;00m fiona_env():\n\u001b[0;32m--> 289\u001b[0m     \u001b[38;5;28;01mwith\u001b[39;00m \u001b[43mreader\u001b[49m\u001b[43m(\u001b[49m\u001b[43mpath_or_bytes\u001b[49m\u001b[43m,\u001b[49m\u001b[43m \u001b[49m\u001b[38;5;241;43m*\u001b[39;49m\u001b[38;5;241;43m*\u001b[39;49m\u001b[43mkwargs\u001b[49m\u001b[43m)\u001b[49m \u001b[38;5;28;01mas\u001b[39;00m features:\n\u001b[1;32m    290\u001b[0m         crs \u001b[38;5;241m=\u001b[39m features\u001b[38;5;241m.\u001b[39mcrs_wkt\n\u001b[1;32m    291\u001b[0m         \u001b[38;5;66;03m# attempt to get EPSG code\u001b[39;00m\n",
      "File \u001b[0;32m/opt/anaconda3/envs/geo/lib/python3.9/site-packages/fiona/env.py:457\u001b[0m, in \u001b[0;36mensure_env_with_credentials.<locals>.wrapper\u001b[0;34m(*args, **kwds)\u001b[0m\n\u001b[1;32m    454\u001b[0m     session \u001b[38;5;241m=\u001b[39m DummySession()\n\u001b[1;32m    456\u001b[0m \u001b[38;5;28;01mwith\u001b[39;00m env_ctor(session\u001b[38;5;241m=\u001b[39msession):\n\u001b[0;32m--> 457\u001b[0m     \u001b[38;5;28;01mreturn\u001b[39;00m \u001b[43mf\u001b[49m\u001b[43m(\u001b[49m\u001b[38;5;241;43m*\u001b[39;49m\u001b[43margs\u001b[49m\u001b[43m,\u001b[49m\u001b[43m \u001b[49m\u001b[38;5;241;43m*\u001b[39;49m\u001b[38;5;241;43m*\u001b[39;49m\u001b[43mkwds\u001b[49m\u001b[43m)\u001b[49m\n",
      "File \u001b[0;32m/opt/anaconda3/envs/geo/lib/python3.9/site-packages/fiona/__init__.py:292\u001b[0m, in \u001b[0;36mopen\u001b[0;34m(fp, mode, driver, schema, crs, encoding, layer, vfs, enabled_drivers, crs_wkt, allow_unsupported_drivers, **kwargs)\u001b[0m\n\u001b[1;32m    289\u001b[0m     path \u001b[38;5;241m=\u001b[39m parse_path(fp)\n\u001b[1;32m    291\u001b[0m \u001b[38;5;28;01mif\u001b[39;00m mode \u001b[38;5;129;01min\u001b[39;00m (\u001b[38;5;124m\"\u001b[39m\u001b[38;5;124ma\u001b[39m\u001b[38;5;124m\"\u001b[39m, \u001b[38;5;124m\"\u001b[39m\u001b[38;5;124mr\u001b[39m\u001b[38;5;124m\"\u001b[39m):\n\u001b[0;32m--> 292\u001b[0m     colxn \u001b[38;5;241m=\u001b[39m \u001b[43mCollection\u001b[49m\u001b[43m(\u001b[49m\n\u001b[1;32m    293\u001b[0m \u001b[43m        \u001b[49m\u001b[43mpath\u001b[49m\u001b[43m,\u001b[49m\n\u001b[1;32m    294\u001b[0m \u001b[43m        \u001b[49m\u001b[43mmode\u001b[49m\u001b[43m,\u001b[49m\n\u001b[1;32m    295\u001b[0m \u001b[43m        \u001b[49m\u001b[43mdriver\u001b[49m\u001b[38;5;241;43m=\u001b[39;49m\u001b[43mdriver\u001b[49m\u001b[43m,\u001b[49m\n\u001b[1;32m    296\u001b[0m \u001b[43m        \u001b[49m\u001b[43mencoding\u001b[49m\u001b[38;5;241;43m=\u001b[39;49m\u001b[43mencoding\u001b[49m\u001b[43m,\u001b[49m\n\u001b[1;32m    297\u001b[0m \u001b[43m        \u001b[49m\u001b[43mlayer\u001b[49m\u001b[38;5;241;43m=\u001b[39;49m\u001b[43mlayer\u001b[49m\u001b[43m,\u001b[49m\n\u001b[1;32m    298\u001b[0m \u001b[43m        \u001b[49m\u001b[43menabled_drivers\u001b[49m\u001b[38;5;241;43m=\u001b[39;49m\u001b[43menabled_drivers\u001b[49m\u001b[43m,\u001b[49m\n\u001b[1;32m    299\u001b[0m \u001b[43m        \u001b[49m\u001b[43mallow_unsupported_drivers\u001b[49m\u001b[38;5;241;43m=\u001b[39;49m\u001b[43mallow_unsupported_drivers\u001b[49m\u001b[43m,\u001b[49m\n\u001b[1;32m    300\u001b[0m \u001b[43m        \u001b[49m\u001b[38;5;241;43m*\u001b[39;49m\u001b[38;5;241;43m*\u001b[39;49m\u001b[43mkwargs\u001b[49m\n\u001b[1;32m    301\u001b[0m \u001b[43m    \u001b[49m\u001b[43m)\u001b[49m\n\u001b[1;32m    302\u001b[0m \u001b[38;5;28;01melif\u001b[39;00m mode \u001b[38;5;241m==\u001b[39m \u001b[38;5;124m\"\u001b[39m\u001b[38;5;124mw\u001b[39m\u001b[38;5;124m\"\u001b[39m:\n\u001b[1;32m    303\u001b[0m     colxn \u001b[38;5;241m=\u001b[39m Collection(\n\u001b[1;32m    304\u001b[0m         path,\n\u001b[1;32m    305\u001b[0m         mode,\n\u001b[0;32m   (...)\u001b[0m\n\u001b[1;32m    314\u001b[0m         \u001b[38;5;241m*\u001b[39m\u001b[38;5;241m*\u001b[39mkwargs\n\u001b[1;32m    315\u001b[0m     )\n",
      "File \u001b[0;32m/opt/anaconda3/envs/geo/lib/python3.9/site-packages/fiona/collection.py:243\u001b[0m, in \u001b[0;36mCollection.__init__\u001b[0;34m(self, path, mode, driver, schema, crs, encoding, layer, vsi, archive, enabled_drivers, crs_wkt, ignore_fields, ignore_geometry, include_fields, wkt_version, allow_unsupported_drivers, **kwargs)\u001b[0m\n\u001b[1;32m    241\u001b[0m \u001b[38;5;28;01mif\u001b[39;00m \u001b[38;5;28mself\u001b[39m\u001b[38;5;241m.\u001b[39mmode \u001b[38;5;241m==\u001b[39m \u001b[38;5;124m\"\u001b[39m\u001b[38;5;124mr\u001b[39m\u001b[38;5;124m\"\u001b[39m:\n\u001b[1;32m    242\u001b[0m     \u001b[38;5;28mself\u001b[39m\u001b[38;5;241m.\u001b[39msession \u001b[38;5;241m=\u001b[39m Session()\n\u001b[0;32m--> 243\u001b[0m     \u001b[38;5;28;43mself\u001b[39;49m\u001b[38;5;241;43m.\u001b[39;49m\u001b[43msession\u001b[49m\u001b[38;5;241;43m.\u001b[39;49m\u001b[43mstart\u001b[49m\u001b[43m(\u001b[49m\u001b[38;5;28;43mself\u001b[39;49m\u001b[43m,\u001b[49m\u001b[43m \u001b[49m\u001b[38;5;241;43m*\u001b[39;49m\u001b[38;5;241;43m*\u001b[39;49m\u001b[43mkwargs\u001b[49m\u001b[43m)\u001b[49m\n\u001b[1;32m    244\u001b[0m \u001b[38;5;28;01melif\u001b[39;00m \u001b[38;5;28mself\u001b[39m\u001b[38;5;241m.\u001b[39mmode \u001b[38;5;129;01min\u001b[39;00m (\u001b[38;5;124m\"\u001b[39m\u001b[38;5;124ma\u001b[39m\u001b[38;5;124m\"\u001b[39m, \u001b[38;5;124m\"\u001b[39m\u001b[38;5;124mw\u001b[39m\u001b[38;5;124m\"\u001b[39m):\n\u001b[1;32m    245\u001b[0m     \u001b[38;5;28mself\u001b[39m\u001b[38;5;241m.\u001b[39msession \u001b[38;5;241m=\u001b[39m WritingSession()\n",
      "File \u001b[0;32mfiona/ogrext.pyx:601\u001b[0m, in \u001b[0;36mfiona.ogrext.Session.start\u001b[0;34m()\u001b[0m\n",
      "\u001b[0;31mValueError\u001b[0m: Null layer: 'HP_Properties_NC'"
     ]
    }
   ],
   "source": [
    "gdb_path = \"/Users/mihiarc/Work/data/HeirsParcels/NC.gdb\"\n",
    "\n",
    "import fiona\n",
    "fiona.listlayers(gdb_path)\n",
    "\n",
    "# # Read the data using geopandas\n",
    "gdf = gpd.read_file(gdb_path, layer=\"HP_Properties_NC\")"
   ]
  },
  {
   "cell_type": "code",
   "execution_count": null,
   "metadata": {},
   "outputs": [],
   "source": []
  },
  {
   "cell_type": "code",
   "execution_count": null,
   "metadata": {},
   "outputs": [],
   "source": []
  },
  {
   "cell_type": "markdown",
   "metadata": {},
   "source": []
  },
  {
   "cell_type": "code",
   "execution_count": 7,
   "metadata": {},
   "outputs": [
    {
     "data": {
      "text/plain": [
       "<Axes: >"
      ]
     },
     "execution_count": 7,
     "metadata": {},
     "output_type": "execute_result"
    },
    {
     "data": {
      "image/png": "[encoded data removed]",
      "text/plain": [
       "<Figure size 640x480 with 1 Axes>"
      ]
     },
     "metadata": {},
     "output_type": "display_data"
    }
   ],
   "source": [
    "# plot the data\n",
    "gdf.plot()"
   ]
  },
  {
   "cell_type": "code",
   "execution_count": 6,
   "metadata": {},
   "outputs": [],
   "source": [
    "gdf.to_parquet('/Users/mihiarc/Work/data/HeirsParcels/nc-hp_v2.parquet')"
   ]
  },
  {
   "cell_type": "code",
   "execution_count": 5,
   "metadata": {},
   "outputs": [],
   "source": [
    "layer_name = 'HP_Properties_NC'\n",
    "# Read the .gdb file into a Dask GeoDataFrame\n",
    "ddf = dgpd.read_file(gdb_path, layer=layer_name, chunksize=100)\n",
    "\n",
    "# Write the Dask GeoDataFrame to Parquet format\n",
    "ddf.to_parquet('/Users/mihiarc/Work/data/HeirsParcels/output_parquet_folder')\n"
   ]
  },
  {
   "cell_type": "code",
   "execution_count": 6,
   "metadata": {},
   "outputs": [],
   "source": [
    "import dask_geopandas as dgpd\n",
    "\n",
    "# Replace 'path_to_your_parquet_files' with the actual path to your Parquet files\n",
    "# For example, if they are in a folder called 'data', use 'data/*.parquet'\n",
    "dask_gdf = dgpd.read_parquet('/Users/mihiarc/Work/data/HeirsParcels/output_parquet_folder/*.parquet')\n"
   ]
  },
  {
   "cell_type": "code",
   "execution_count": 7,
   "metadata": {},
   "outputs": [
    {
     "name": "stdout",
     "output_type": "stream",
     "text": [
      "Index(['PARCELAPN', 'FIPS', 'PRCLDMPID', 'OBJECTID', 'Join_Count',\n",
      "       'TARGET_FID', 'JOIN_FID', 'PARCELAPN_1', 'FIPS_1', 'TAXAPN',\n",
      "       ...\n",
      "       'FIPS_12_13', 'PRCLDMPID_12_13', 'SHAPE_Length_1', 'SHAPE_Area_1',\n",
      "       'Existing_ID', 'Table_Joined', 'Match_Spatial', 'Shape_Length',\n",
      "       'Shape_Area', 'geometry'],\n",
      "      dtype='object', length=145)\n"
     ]
    }
   ],
   "source": [
    "\n",
    "# Print the first few rows of the Dask GeoDataFrame\n",
    "print(dask_gdf.columns)\n"
   ]
  },
  {
   "cell_type": "code",
   "execution_count": null,
   "metadata": {},
   "outputs": [],
   "source": [
    "# Compute the Dask GeoDataFrame to get a GeoPandas GeoDataFrame\n",
    "gdf = dask_gdf.compute()"
   ]
  },
  {
   "cell_type": "code",
   "execution_count": 11,
   "metadata": {},
   "outputs": [
    {
     "name": "stdout",
     "output_type": "stream",
     "text": [
      "Columns in dask_gdf before compute:\n",
      "Index(['PARCELAPN', 'FIPS', 'PRCLDMPID', 'OBJECTID', 'Join_Count',\n",
      "       'TARGET_FID', 'JOIN_FID', 'PARCELAPN_1', 'FIPS_1', 'TAXAPN',\n",
      "       ...\n",
      "       'FIPS_12_13', 'PRCLDMPID_12_13', 'SHAPE_Length_1', 'SHAPE_Area_1',\n",
      "       'Existing_ID', 'Table_Joined', 'Match_Spatial', 'Shape_Length',\n",
      "       'Shape_Area', 'geometry'],\n",
      "      dtype='object', length=145)\n"
     ]
    }
   ],
   "source": [
    "import dask.dataframe as dd\n",
    "\n",
    "# Load the data\n",
    "dask_gdf = dgpd.read_parquet('/Users/mihiarc/Work/data/HeirsParcels/output_parquet_folder/*.parquet')\n",
    "\n",
    "# Inspect the columns before computing\n",
    "print(\"Columns in dask_gdf before compute:\")\n",
    "print(dask_gdf.columns)\n",
    "\n",
    "# Check if the required columns are present\n",
    "required_columns = ['VALMRKT', 'ADDRSCORE', 'ASVSTCDDSC', 'PARCELAPN_12_13', 'heir_se_19', 'county_nam', 'LSSVSTCDDS', 'heir_se_40', 'PARCELAPN_1', 'VALASSIMP_', 'OBJECTID', 'heir_se_12', 'heir_se_26', 'STATE', 'PRCLDMPID_12', 'STSUFFIX', 'Existing_ID', 'heir_se_32', 'heir_se_29', 'VALMRKTIMP', 'PROPDMPID', 'heir_se_17', 'HPbin', 'heir_sea_7', 'STZIP', 'VALMRKTI_1', 'VALMRKTL_1', 'heir_se_14', 'heir_se_16', 'heir_se_47', 'MSTATE', 'MHSNUMB', 'MSTNAME', 'heir_sea_3', 'heir_se_33', 'heir_sea_6', 'heir_se_20', 'ASVSTCD', 'VALASSLND', 'FIPS_12', 'MCAREOFNAM', 'heir_se_45', 'heir_searc', 'STUNITNUM', 'LOCATIONID', 'heir_se_10', 'OWN2', 'heir_se_13', 'heir_se_53', 'STSTATE', 'heir_se_30', 'MUNITPRFX', 'VALMRKT_nu', 'VALMRKTLND', 'PRCLDMPID_12_13', 'heir_se_23', 'heir_se_36', 'TARGET_FID', 'heir_se_21', 'heir_se_24', 'heir_se_34', 'TAXAPN', 'incl2', 'ASMTVERSID', 'MZIP', 'heir_se_41', 'STUNITPRFX', 'VALAVM_num', 'VALASS_num', 'STSTNAME', 'PRCLDMPID_1', 'heir_se_52', 'LSTSLDTRN', 'PARCELAPN_12', 'heir_sea_2', 'heir_se_54', 'Join_Count', 'FIPS_12_13', 'SHAPE_Area_1', 'MZIP4', 'VALASSLND_', 'Shape_Length', 'XCOORD', 'LANDPSQFT', 'excl3', 'heir_se_31', 'heir_se_49', 'Match_Spatial', 'LSSVSTCD', 'heir_se_43', 'heir_se_44', 'heir_se_15', 'STQUADRANT', 'JOIN_FID', 'MMODE', 'heir_se_11', 'MQUADRNT', 'LSSVALTRNF', 'heir_se_39', 'heir_se_18', 'land_acre', 'STZIP4', 'heir_se_50', 'heir500', 'MPREDIR', 'heir_se_42', 'heir_se_51', 'OWN1', 'MUNITNUM', 'VALAVM', 'MCITY', 'heir_sea_5', 'STDIR', 'VALASSIMP', 'FIPS_1', 'heir_se_48', 'SHAPE_Length_1', 'heir_sea_9', 'LANDSQFT', 'heir_se_46', 'Table_Joined', 'Shape_Area', 'incl1', 'heir_se_37', 'excl2', 'heir_sea_8', 'heir_se_22', 'OWNPHONE', 'excl1', 'VALASS', 'heir_se_27', 'YCOORD', 'GEOSOURCE', 'heir_se_25', 'heir_se_38', 'heir_se_35', 'STCITY', 'heir_se_28', 'heir_sea_4', 'STHSNUM', 'heir_sea_1']\n",
    "\n",
    "missing_columns = [col for col in required_columns if col not in dask_gdf.columns]\n",
    "if missing_columns:\n",
    "    raise KeyError(f\"Missing columns in dask_gdf: {missing_columns}\")\n"
   ]
  },
  {
   "cell_type": "code",
   "execution_count": null,
   "metadata": {},
   "outputs": [],
   "source": [
    "# Compute the dask DataFrame\n",
    "gdf = dask_gdf.compute()\n",
    "print(\"Columns in gdf after compute:\")\n",
    "print(gdf.columns)"
   ]
  },
  {
   "cell_type": "code",
   "execution_count": 8,
   "metadata": {},
   "outputs": [
    {
     "name": "stdout",
     "output_type": "stream",
     "text": [
      "  PARCELAPN   FIPS            PRCLDMPID  OBJECTID  Join_Count  TARGET_FID  \\\n",
      "0    124349  37001  100660192_151880362         1           1           1   \n",
      "1    123852  37001  100660192_151880552         2           1           2   \n",
      "2    124353  37001  100660192_151880365         3           1           3   \n",
      "3    127453  37001  100660192_151879889         4           1           4   \n",
      "4    127452  37001  100660192_151879883         5           1           5   \n",
      "\n",
      "   JOIN_FID  PARCELAPN_1  FIPS_1    TAXAPN  ... FIPS_12_13  \\\n",
      "0   3748434     124349.0   37001  124349.0  ...      37001   \n",
      "1   3749047     123852.0   37001  123852.0  ...      37001   \n",
      "2   3748557     124353.0   37001  124353.0  ...      37001   \n",
      "3   3745826     127453.0   37001  127453.0  ...      37001   \n",
      "4   3745820     127452.0   37001  127452.0  ...      37001   \n",
      "\n",
      "       PRCLDMPID_12_13 SHAPE_Length_1  SHAPE_Area_1 Existing_ID Table_Joined  \\\n",
      "0  100660192_151880362       0.001737  1.329530e-07          ID       Joined   \n",
      "1  100660192_151880552       0.001368  9.601010e-08          ID       Joined   \n",
      "2  100660192_151880365       0.002031  2.244767e-07          ID       Joined   \n",
      "3  100660192_151879889       0.001444  8.024538e-08          ID       Joined   \n",
      "4  100660192_151879883       0.001498  9.233016e-08          ID       Joined   \n",
      "\n",
      "  Match_Spatial Shape_Length    Shape_Area  \\\n",
      "0   Matched IDs     0.001737  1.329530e-07   \n",
      "1   Matched IDs     0.001368  9.601010e-08   \n",
      "2   Matched IDs     0.002031  2.244767e-07   \n",
      "3   Matched IDs     0.001444  8.024538e-08   \n",
      "4   Matched IDs     0.001498  9.233016e-08   \n",
      "\n",
      "                                            geometry  \n",
      "0  MULTIPOLYGON (((-79.45917 36.10890, -79.45918 ...  \n",
      "1  MULTIPOLYGON (((-79.46096 36.10467, -79.46101 ...  \n",
      "2  MULTIPOLYGON (((-79.45846 36.10784, -79.45852 ...  \n",
      "3  MULTIPOLYGON (((-79.46177 36.11650, -79.46185 ...  \n",
      "4  MULTIPOLYGON (((-79.46185 36.11656, -79.46194 ...  \n",
      "\n",
      "[5 rows x 145 columns]\n"
     ]
    }
   ],
   "source": [
    "# Now you can analyze your combined polygon layer using GeoPandas\n",
    "print(gdf.head())"
   ]
  },
  {
   "cell_type": "code",
   "execution_count": null,
   "metadata": {},
   "outputs": [],
   "source": [
    "gdf.to_parquet('/Users/mihiarc/Work/data/HeirsParcels/nc-hp.parquet')"
   ]
  }
 ],
 "metadata": {
  "kernelspec": {
   "display_name": "geo",
   "language": "python",
   "name": "python3"
  },
  "language_info": {
   "codemirror_mode": {
    "name": "ipython",
    "version": 3
   },
   "file_extension": ".py",
   "mimetype": "text/x-python",
   "name": "python",
   "nbconvert_exporter": "python",
   "pygments_lexer": "ipython3",
   "version": "3.9.18"
  }
 },
 "nbformat": 4,
 "nbformat_minor": 2
}
