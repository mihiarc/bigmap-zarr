{
 "cells": [
  {
   "cell_type": "code",
   "execution_count": null,
   "metadata": {},
   "outputs": [],
   "source": [
    "# Test basic Python packages\n",
    "import numpy as np\n",
    "import pandas as pd\n",
    "import matplotlib.pyplot as plt\n",
    "\n",
    "print(f\"NumPy version: {np.__version__}\")\n",
    "print(f\"Pandas version: {pd.__version__}\")\n",
    "print(f\"Matplotlib version: {plt.__version__}\")"
   ]
  },
  {
   "cell_type": "code",
   "execution_count": null,
   "metadata": {},
   "outputs": [],
   "source": [
    "# Test spatial libraries\n",
    "import geopandas as gpd\n",
    "import rasterio\n",
    "import shapely\n",
    "import fiona\n",
    "import pyproj\n",
    "\n",
    "print(f\"GeoPandas version: {gpd.__version__}\")\n",
    "print(f\"Rasterio version: {rasterio.__version__}\")\n",
    "print(f\"Shapely version: {shapely.__version__}\")\n",
    "print(f\"Fiona version: {fiona.__version__}\")\n",
    "print(f\"PyProj version: {pyproj.__version__}\")"
   ]
  },
  {
   "cell_type": "code",
   "execution_count": null,
   "metadata": {},
   "outputs": [],
   "source": [
    "# Test GDAL installation\n",
    "from osgeo import gdal\n",
    "print(f\"GDAL version: {gdal.__version__}\")\n",
    "\n",
    "# Test GDAL functionality\n",
    "print(\"\\nAvailable GDAL drivers:\")\n",
    "for i in range(gdal.GetDriverCount()):\n",
    "    driver = gdal.GetDriver(i)\n",
    "    print(f\"- {driver.ShortName}: {driver.LongName}\")"
   ]
  },
  {
   "cell_type": "code",
   "execution_count": null,
   "metadata": {},
   "outputs": [],
   "source": [
    "# Test PostGIS connection\n",
    "import psycopg2\n",
    "try:\n",
    "    conn = psycopg2.connect(\n",
    "        dbname=\"heirs_property\",\n",
    "        user=\"heirs_user\",\n",
    "        password=\"dev_password_123\",\n",
    "        host=\"postgis\"\n",
    "    )\n",
    "    print(\"Successfully connected to PostGIS database\")\n",
    "    \n",
    "    # Test PostGIS functionality\n",
    "    cur = conn.cursor()\n",
    "    cur.execute(\"SELECT PostGIS_Version();\")\n",
    "    version = cur.fetchone()[0]\n",
    "    print(f\"PostGIS version: {version}\")\n",
    "    \n",
    "    cur.close()\n",
    "    conn.close()\n",
    "except Exception as e:\n",
    "    print(f\"Error connecting to database: {e}\")"
   ]
  },
  {
   "cell_type": "code",
   "execution_count": null,
   "metadata": {},
   "outputs": [],
   "source": [
    "# Test access to mounted volumes\n",
    "import os\n",
    "\n",
    "def check_directory(path):\n",
    "    try:\n",
    "        if os.path.exists(path):\n",
    "            print(f\"✅ {path} exists\")\n",
    "            files = os.listdir(path)\n",
    "            print(f\"   Contains {len(files)} files/directories\")\n",
    "            return True\n",
    "        else:\n",
    "            print(f\"❌ {path} does not exist\")\n",
    "            return False\n",
    "    except Exception as e:\n",
    "        print(f\"❌ Error accessing {path}: {e}\")\n",
    "        return False\n",
    "\n",
    "# Check important directories\n",
    "print(\"Testing volume mounts:\")\n",
    "check_directory('/workspace')\n",
    "check_directory('/data')\n",
    "check_directory('/workspace/notebooks')\n",
    "check_directory('/workspace/results')"
   ]
  }
 ],
 "metadata": {
  "language_info": {
   "name": "python"
  }
 },
 "nbformat": 4,
 "nbformat_minor": 2
}
