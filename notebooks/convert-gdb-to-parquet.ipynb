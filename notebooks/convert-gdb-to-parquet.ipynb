{
 "cells": [
  {
   "cell_type": "markdown",
   "metadata": {},
   "source": [
    "Heirs property is a form of land ownership that is common in the southern United States, particularly among African American families. It occurs when land is passed down through generations without a will or proper legal documentation, resulting in multiple family members sharing ownership. This form of ownership can create several complications:\n",
    "\n",
    "1. **Fractional Ownership**: As property passes to more descendants, the ownership becomes increasingly divided, often leaving many individuals with small, fractional shares.\n",
    "\n",
    "2. **Legal Challenges**: Without clear title or documentation, it is difficult for the family members to sell, develop, or use the property as collateral for loans. It also complicates efforts to pay taxes and make decisions regarding the land.\n",
    "\n",
    "3. **Risk of Forced Sale**: Any co-owner can sell their share to an outsider without the consent of other family members. The new owner can then file a partition action in court, which may result in a forced sale of the entire property, often at below-market prices.\n",
    "\n",
    "4. **Loss of Land**: This type of ownership has contributed to significant land loss among African American families in the South. Due to the legal complexities and lack of resources, many families are unable to prevent forced sales or pay property taxes, resulting in the loss of ancestral land.\n",
    "\n",
    "Heirs property is often a legacy of systemic issues like discriminatory lending practices and lack of access to legal resources, making it a challenging and important issue for many families in the region."
   ]
  },
  {
   "cell_type": "code",
   "execution_count": 1,
   "metadata": {},
   "outputs": [],
   "source": [
    "# conda create -n geo python=3.9\n",
    "# conda install -c conda-forge geos=3.10 shapely=2.0 fiona geopandas dask-geopandas pyarrow pyogrio dask\n",
    "\n",
    "import geopandas as gpd\n",
    "import dask_geopandas as dgpd\n",
    "import dask.dataframe as dd"
   ]
  },
  {
   "cell_type": "code",
   "execution_count": 2,
   "metadata": {},
   "outputs": [
    {
     "name": "stdout",
     "output_type": "stream",
     "text": [
      "3.10.3-CAPI-1.16.1\n"
     ]
    }
   ],
   "source": [
    "import shapely\n",
    "print(shapely.geos.geos_version_string)"
   ]
  },
  {
   "cell_type": "code",
   "execution_count": 5,
   "metadata": {},
   "outputs": [
    {
     "name": "stdout",
     "output_type": "stream",
     "text": [
      "Dask version: 2024.5.0\n",
      "Dask-Geopandas version: v0.3.1\n",
      "GeoPandas version: 0.14.4\n",
      "Pandas version: 2.2.3\n",
      "Shapely version: 1.8.2\n"
     ]
    }
   ],
   "source": [
    "import dask\n",
    "import dask_geopandas\n",
    "import geopandas\n",
    "import pandas\n",
    "import shapely\n",
    "\n",
    "print(\"Dask version:\", dask.__version__)\n",
    "print(\"Dask-Geopandas version:\", dask_geopandas.__version__)\n",
    "print(\"GeoPandas version:\", geopandas.__version__)\n",
    "print(\"Pandas version:\", pandas.__version__)\n",
    "print(\"Shapely version:\", shapely.__version__)"
   ]
  },
  {
   "cell_type": "code",
   "execution_count": 3,
   "metadata": {},
   "outputs": [
    {
     "name": "stdout",
     "output_type": "stream",
     "text": [
      "Available layers: ['Propertypoints', 'Parcels']\n"
     ]
    }
   ],
   "source": [
    "# Define the path to your .gdb file and the desired layer\n",
    "\n",
    "\n",
    "# List available layers\n",
    "layers = fiona.listlayers(gdb_path)\n",
    "print(\"Available layers:\", layers)\n",
    "\n"
   ]
  },
  {
   "cell_type": "code",
   "execution_count": 2,
   "metadata": {},
   "outputs": [
    {
     "name": "stderr",
     "output_type": "stream",
     "text": [
      "Warning 1: organizePolygons() received a polygon with more than 100 parts. The processing may be really slow.  You can skip the processing by setting METHOD=SKIP, or only make it analyze counter-clock wise parts by setting METHOD=ONLY_CCW if you can assume that the outline of holes is counter-clock wise defined\n"
     ]
    }
   ],
   "source": [
    "gdb_path = \"/Users/mihiarc/Work/data/HeirsParcels/NC.gdb\"\n",
    "layer_name = 'Parcels'\n",
    "# Read the .gdb file into a Dask GeoDataFrame\n",
    "ddf = dgpd.read_file(gdb_path, layer=layer_name, chunksize=100)\n",
    "\n",
    "# Write the Dask GeoDataFrame to Parquet format\n",
    "ddf.to_parquet('/Users/mihiarc/Work/data/HeirsParcels/output_parquet_folder')\n"
   ]
  },
  {
   "cell_type": "code",
   "execution_count": 3,
   "metadata": {},
   "outputs": [
    {
     "name": "stdout",
     "output_type": "stream",
     "text": [
      "         PARCELAPN   FIPS           PRCLDMPID  \\\n",
      "0  0837-00-29-8823  37121  100660192_68759993   \n",
      "1  0827-00-23-1028  37121  100660192_68759992   \n",
      "2  0827-00-12-8982  37121  100660192_68759991   \n",
      "3  0827-00-15-9285  37121  100660192_68759978   \n",
      "4  0827-00-14-1202  37121  100660192_68759977   \n",
      "\n",
      "                                            geometry  \n",
      "0  MULTIPOLYGON (((-82.28045 36.1062, -82.2796 36...  \n",
      "1  MULTIPOLYGON (((-82.30944 36.10372, -82.30949 ...  \n",
      "2  MULTIPOLYGON (((-82.31116 36.10339, -82.31128 ...  \n",
      "3  MULTIPOLYGON (((-82.31139 36.10882, -82.31267 ...  \n",
      "4  MULTIPOLYGON (((-82.31668 36.10588, -82.31486 ...  \n"
     ]
    }
   ],
   "source": [
    "import dask_geopandas as dgpd\n",
    "\n",
    "# Replace 'path_to_your_parquet_files' with the actual path to your Parquet files\n",
    "# For example, if they are in a folder called 'data', use 'data/*.parquet'\n",
    "dask_gdf = dgpd.read_parquet('/Users/mihiarc/Work/data/HeirsParcels/output_parquet_folder/*.parquet')\n",
    "\n",
    "# Print the first few rows of the Dask GeoDataFrame\n",
    "print(dask_gdf.head())\n"
   ]
  },
  {
   "cell_type": "code",
   "execution_count": 4,
   "metadata": {},
   "outputs": [
    {
     "name": "stdout",
     "output_type": "stream",
     "text": [
      "         PARCELAPN   FIPS           PRCLDMPID  \\\n",
      "0  0837-00-29-8823  37121  100660192_68759993   \n",
      "1  0827-00-23-1028  37121  100660192_68759992   \n",
      "2  0827-00-12-8982  37121  100660192_68759991   \n",
      "3  0827-00-15-9285  37121  100660192_68759978   \n",
      "4  0827-00-14-1202  37121  100660192_68759977   \n",
      "\n",
      "                                            geometry  \n",
      "0  MULTIPOLYGON (((-82.28045 36.1062, -82.2796 36...  \n",
      "1  MULTIPOLYGON (((-82.30944 36.10372, -82.30949 ...  \n",
      "2  MULTIPOLYGON (((-82.31116 36.10339, -82.31128 ...  \n",
      "3  MULTIPOLYGON (((-82.31139 36.10882, -82.31267 ...  \n",
      "4  MULTIPOLYGON (((-82.31668 36.10588, -82.31486 ...  \n"
     ]
    }
   ],
   "source": [
    "\n",
    "# Compute the Dask GeoDataFrame to get a GeoPandas GeoDataFrame\n",
    "gdf = dask_gdf.compute()\n",
    "\n",
    "# Now you can analyze your combined polygon layer using GeoPandas\n",
    "print(gdf.head())"
   ]
  },
  {
   "cell_type": "code",
   "execution_count": 5,
   "metadata": {},
   "outputs": [],
   "source": [
    "gdf.to_parquet('/Users/mihiarc/Work/data/HeirsParcels/nc-hp.parquet')"
   ]
  }
 ],
 "metadata": {
  "kernelspec": {
   "display_name": "geo",
   "language": "python",
   "name": "python3"
  },
  "language_info": {
   "codemirror_mode": {
    "name": "ipython",
    "version": 3
   },
   "file_extension": ".py",
   "mimetype": "text/x-python",
   "name": "python",
   "nbconvert_exporter": "python",
   "pygments_lexer": "ipython3",
   "version": "3.9.20"
  }
 },
 "nbformat": 4,
 "nbformat_minor": 2
}
